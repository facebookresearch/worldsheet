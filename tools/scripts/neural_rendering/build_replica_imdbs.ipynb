{
 "cells": [
  {
   "cell_type": "code",
   "execution_count": 1,
   "metadata": {},
   "outputs": [],
   "source": [
    "import os\n",
    "import numpy as np\n",
    "from glob import glob"
   ]
  },
  {
   "cell_type": "code",
   "execution_count": 2,
   "metadata": {},
   "outputs": [],
   "source": [
    "# IMAGE_DIR = '/checkpoint/ronghanghu/neural_rendering_datasets/replica/{}/images'\n",
    "DATA_DIR = '/checkpoint/ronghanghu/neural_rendering_datasets/replica/{}/data'\n",
    "SAVE_IMDB_FILE = '/checkpoint/ronghanghu/pythia/data/datasets/replica/defaults/annotations/imdb_{}.npy'"
   ]
  },
  {
   "cell_type": "code",
   "execution_count": 3,
   "metadata": {},
   "outputs": [
    {
     "name": "stdout",
     "output_type": "stream",
     "text": [
      "processing split train\n",
      "got 26000 images\n",
      "processing split test\n",
      "got 10000 images\n"
     ]
    }
   ],
   "source": [
    "for split in ['train', 'test']:\n",
    "    print('processing split {}'.format(split))\n",
    "    data_files = glob(os.path.join(DATA_DIR.format(split), '*.npz'))\n",
    "    data_files = sorted(data_files)\n",
    "\n",
    "    imdb = [{'dataset': 'replica', 'split': split}]\n",
    "    for file in data_files:\n",
    "        basename = os.path.basename(file)\n",
    "        info = {\n",
    "            'image_id': basename.split('.')[0],\n",
    "            'data_path': '{}/data/{}'.format(split, basename),\n",
    "            'image_path_template': '{}/images/{}_im_%04d.png'.format(split, basename.split('.')[0]),\n",
    "        }\n",
    "        imdb.append(info)\n",
    "\n",
    "    print('got {} images'.format(len(imdb) - 1))\n",
    "    np.save(SAVE_IMDB_FILE.format(split), imdb)"
   ]
  },
  {
   "cell_type": "code",
   "execution_count": null,
   "metadata": {},
   "outputs": [],
   "source": []
  }
 ],
 "metadata": {
  "kernelspec": {
   "display_name": "Python 3",
   "language": "python",
   "name": "python3"
  },
  "language_info": {
   "codemirror_mode": {
    "name": "ipython",
    "version": 3
   },
   "file_extension": ".py",
   "mimetype": "text/x-python",
   "name": "python",
   "nbconvert_exporter": "python",
   "pygments_lexer": "ipython3",
   "version": "3.7.7"
  }
 },
 "nbformat": 4,
 "nbformat_minor": 4
}
