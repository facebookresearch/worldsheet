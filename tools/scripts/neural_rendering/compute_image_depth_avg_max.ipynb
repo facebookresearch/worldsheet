{
 "cells": [
  {
   "cell_type": "code",
   "execution_count": 1,
   "metadata": {},
   "outputs": [
    {
     "name": "stderr",
     "output_type": "stream",
     "text": [
      "100%|██████████| 1300/1300 [00:09<00:00, 130.02it/s]\n",
      "100%|██████████| 1300/1300 [00:15<00:00, 85.59it/s]\n"
     ]
    }
   ],
   "source": [
    "import numpy as np\n",
    "from glob import glob\n",
    "from tqdm import tqdm\n",
    "import skimage.io\n",
    "\n",
    "files = sorted(glob(\"/checkpoint/ronghanghu/neural_rendering_datasets/replica/train/images/*.png\"))\n",
    "avg_rgb = np.zeros(3)\n",
    "count = 0\n",
    "for file in tqdm(files[::100]):\n",
    "    im = skimage.io.imread(file)\n",
    "    im = skimage.img_as_float(im)\n",
    "    # note that it didn't account for missing ceiling regions (which are all black)\n",
    "    avg_rgb += np.mean(im, (0, 1))\n",
    "    count += 1\n",
    "avg_rgb /= count\n",
    "\n",
    "files = sorted(glob(\"/checkpoint/ronghanghu/neural_rendering_datasets/replica/train/data/*.npz\"))\n",
    "avg_depth = 0\n",
    "max_depth = 0\n",
    "count = 0\n",
    "for file in tqdm(files[::20]):\n",
    "    d = np.load(file)\n",
    "    depths = d[\"depths\"]\n",
    "    mask = (depths > 0).astype(np.float32)\n",
    "    max_depth = max(max_depth, np.max(depths))\n",
    "    avg_depth = avg_depth + np.sum(depths * mask) / max(1, np.sum(mask))\n",
    "    count += 1\n",
    "    d.close()\n",
    "avg_depth = avg_depth / count"
   ]
  },
  {
   "cell_type": "code",
   "execution_count": 2,
   "metadata": {},
   "outputs": [
    {
     "name": "stdout",
     "output_type": "stream",
     "text": [
      "average image rgb: [0.64926944 0.61896299 0.64431339]\n",
      "avg: 1.7432\n",
      "max: 10.0000\n"
     ]
    }
   ],
   "source": [
    "print('average image rgb:', avg_rgb)\n",
    "\n",
    "print('avg: {:.4f}'.format(avg_depth.item()))\n",
    "print('max: {:.4f}'.format(max_depth.item()))"
   ]
  }
 ],
 "metadata": {
  "kernelspec": {
   "display_name": "Python 3",
   "language": "python",
   "name": "python3"
  },
  "language_info": {
   "codemirror_mode": {
    "name": "ipython",
    "version": 3
   },
   "file_extension": ".py",
   "mimetype": "text/x-python",
   "name": "python",
   "nbconvert_exporter": "python",
   "pygments_lexer": "ipython3",
   "version": "3.7.7"
  }
 },
 "nbformat": 4,
 "nbformat_minor": 4
}
