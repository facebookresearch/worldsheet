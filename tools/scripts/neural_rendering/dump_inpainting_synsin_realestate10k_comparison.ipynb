{
 "cells": [
  {
   "cell_type": "markdown",
   "metadata": {},
   "source": [
    "## !!!This notebook is not needed anymore, as you can directly write PNGs from MMF"
   ]
  },
  {
   "cell_type": "code",
   "execution_count": null,
   "metadata": {},
   "outputs": [],
   "source": [
    "import os\n",
    "\n",
    "import numpy as np\n",
    "from glob import glob\n",
    "import matplotlib.pyplot as plt\n",
    "import skimage.io\n",
    "from tqdm import tqdm"
   ]
  },
  {
   "cell_type": "code",
   "execution_count": null,
   "metadata": {},
   "outputs": [],
   "source": [
    "exp_name = 'realestate10k_nodepth_perceptual_l1laplacian_inpaintGonly_scale2_long'\n",
    "n_iter = 100000\n",
    "split = 'realestate10k_test'\n",
    "\n",
    "synsin_list = '/private/home/ronghanghu/workspace/mmf_nr/mmf/datasets/builders/synsin_realestate10k/realestate_test.txt'\n",
    "dump_dir = f\"/private/home/ronghanghu/workspace/synsin/results_realestate10K_ours/{exp_name}/{n_iter}\"\n",
    "result_dir = f'/private/home/ronghanghu/workspace/mmf_nr/save/visualization_synsin_realestate10k/{exp_name}/{n_iter}/{split}'"
   ]
  },
  {
   "cell_type": "code",
   "execution_count": null,
   "metadata": {
    "scrolled": false
   },
   "outputs": [],
   "source": [
    "result_files = sorted(glob(os.path.join(result_dir, '*.npz')))\n",
    "\n",
    "with open(synsin_list) as f:\n",
    "    lines = f.readlines()\n",
    "eval_image_id2idx = {\n",
    "    '_'.join(l.split()[:3]).replace('/', '-'): n_l\n",
    "    for n_l, l in enumerate(lines)\n",
    "}\n",
    "assert len(result_files) == len(eval_image_id2idx)\n",
    "\n",
    "\n",
    "for file in tqdm(result_files):\n",
    "    d = np.load(file)\n",
    "    results = dict(d)\n",
    "    d.close()\n",
    "\n",
    "    base_image_id = os.path.basename(file).replace('_outputs.npz', '')\n",
    "    image_id = '_'.join(base_image_id.split('_')[1:])\n",
    "    idx = eval_image_id2idx[image_id]\n",
    "    assert idx == int(base_image_id.split('_')[0])\n",
    "\n",
    "    im_input = skimage.img_as_ubyte(results['orig_img_0'])\n",
    "    im_output = skimage.img_as_ubyte(np.clip(results['rgb_1_inpaint'], 0, 1))\n",
    "    im_tgt = skimage.img_as_ubyte(results['orig_img_1'])\n",
    "    \n",
    "    im_save_dir = os.path.join(dump_dir, f\"{idx:04d}\")\n",
    "    os.makedirs(im_save_dir, exist_ok=True)\n",
    "\n",
    "    skimage.io.imsave(im_save_dir + \"/output_image_.png\", im_output)\n",
    "#     skimage.io.imsave(im_save_dir + \"/input_image_.png\", im_input)\n",
    "#     skimage.io.imsave(im_save_dir + \"/tgt_image_.png\", im_tgt)\n",
    "\n",
    "    # just for faster dumping -- copy input and tgt images, instead of writing them\n",
    "    # only copy tgt_image_.png (input_image_.png is not needed for eval)\n",
    "    from shutil import copy\n",
    "    copy(f\"/private/home/ronghanghu/workspace/synsin/results_realestate10K/{idx:04d}/tgt_image_.png\",\n",
    "         im_save_dir + \"/tgt_image_.png\")"
   ]
  },
  {
   "cell_type": "code",
   "execution_count": null,
   "metadata": {},
   "outputs": [],
   "source": []
  }
 ],
 "metadata": {
  "kernelspec": {
   "display_name": "Python 3",
   "language": "python",
   "name": "python3"
  },
  "language_info": {
   "codemirror_mode": {
    "name": "ipython",
    "version": 3
   },
   "file_extension": ".py",
   "mimetype": "text/x-python",
   "name": "python",
   "nbconvert_exporter": "python",
   "pygments_lexer": "ipython3",
   "version": "3.7.7"
  }
 },
 "nbformat": 4,
 "nbformat_minor": 4
}
