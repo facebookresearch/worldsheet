{
 "cells": [
  {
   "cell_type": "code",
   "execution_count": null,
   "metadata": {},
   "outputs": [],
   "source": [
    "import torch\n",
    "import os\n",
    "import sys; sys.path.append(\"/private/home/ronghanghu/workspace/mmf_nr\")"
   ]
  },
  {
   "cell_type": "code",
   "execution_count": null,
   "metadata": {},
   "outputs": [],
   "source": [
    "stride8_weights_file = '/private/home/ronghanghu/workspace/mmf_nr/save/synsin_realestate10k/realestate10k_dscale2_lowerL1_200/models/model_50000.ckpt'\n",
    "stride4_weights_file = '/private/home/ronghanghu/workspace/mmf_nr/save/synsin_realestate10k/realestate10k_dscale2_stride4ft_lowerL1_200/init.ckpt'"
   ]
  },
  {
   "cell_type": "code",
   "execution_count": null,
   "metadata": {},
   "outputs": [],
   "source": [
    "stride8_weights = torch.load(stride8_weights_file)"
   ]
  },
  {
   "cell_type": "code",
   "execution_count": null,
   "metadata": {},
   "outputs": [],
   "source": [
    "def upgrade_w(w):\n",
    "    return w.permute(1, 0, 2, 3).repeat(1, 1, 2, 2)\n",
    "\n",
    "\n",
    "model = stride8_weights[\"model\"]\n",
    "for k in [\"offset_and_depth_predictor.xy_offset_predictor.weight\", \"offset_and_depth_predictor.z_grid_predictor.weight\"]:\n",
    "    model[k] = upgrade_w(model[k])\n",
    "\n",
    "for k in [\"novel_view_projector.unscaled_grid\", \"loss_mesh_laplacian.laplacian\", \"loss_z_grid_l1.sampling_grid\"]:\n",
    "    model.pop(k)\n",
    "\n",
    "# see https://pytorch.org/docs/stable/generated/torch.nn.ConvTranspose2d.html\n",
    "# and https://pytorch.org/docs/stable/generated/torch.nn.Conv2d.html"
   ]
  },
  {
   "cell_type": "code",
   "execution_count": null,
   "metadata": {},
   "outputs": [],
   "source": [
    "stride4_weights = stride8_weights\n",
    "\n",
    "os.makedirs(os.path.dirname(stride4_weights_file), exist_ok=True)\n",
    "torch.save(stride4_weights, stride4_weights_file)"
   ]
  },
  {
   "cell_type": "code",
   "execution_count": null,
   "metadata": {},
   "outputs": [],
   "source": []
  }
 ],
 "metadata": {
  "kernelspec": {
   "display_name": "Python 3",
   "language": "python",
   "name": "python3"
  },
  "language_info": {
   "codemirror_mode": {
    "name": "ipython",
    "version": 3
   },
   "file_extension": ".py",
   "mimetype": "text/x-python",
   "name": "python",
   "nbconvert_exporter": "python",
   "pygments_lexer": "ipython3",
   "version": "3.7.7"
  }
 },
 "nbformat": 4,
 "nbformat_minor": 4
}
