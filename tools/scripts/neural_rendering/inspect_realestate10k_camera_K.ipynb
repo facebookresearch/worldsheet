{
 "cells": [
  {
   "cell_type": "code",
   "execution_count": 1,
   "metadata": {},
   "outputs": [],
   "source": [
    "import numpy as np"
   ]
  },
  {
   "cell_type": "code",
   "execution_count": 2,
   "metadata": {},
   "outputs": [],
   "source": [
    "class Dataset:\n",
    "    def __init__(self, base_path, video_list_file, W):\n",
    "\n",
    "        self.files = np.loadtxt(video_list_file, dtype=np.str)\n",
    "\n",
    "        self.offset = np.array(\n",
    "            [[2, 0, -1], [0, -2, 1], [0, 0, -1]], dtype=np.float32\n",
    "        )\n",
    "\n",
    "        self.W = W\n",
    "\n",
    "    def __len__(self):\n",
    "        return len(self.files)\n",
    "\n",
    "    def __getitem__(self, index):\n",
    "        # Then load the image and generate that\n",
    "        file_name = self.files[index]\n",
    "        intrinsics = file_name[3:7].astype(np.float32) / float(self.W)\n",
    "        origK = np.array(\n",
    "            [\n",
    "                [intrinsics[0], 0, intrinsics[2]],\n",
    "                [0, intrinsics[1], intrinsics[3]],\n",
    "                [0, 0, 1],\n",
    "            ],\n",
    "            dtype=np.float32,\n",
    "        )\n",
    "        K = np.matmul(self.offset, origK)\n",
    "\n",
    "        return K"
   ]
  },
  {
   "cell_type": "code",
   "execution_count": 3,
   "metadata": {},
   "outputs": [],
   "source": [
    "dataset = Dataset(\n",
    "    None,\n",
    "    \"/private/home/ronghanghu/workspace/mmf_nr/mmf/datasets/builders/synsin_realestate10k/realestate.txt\",\n",
    "    256\n",
    ")"
   ]
  },
  {
   "cell_type": "code",
   "execution_count": 4,
   "metadata": {
    "scrolled": false
   },
   "outputs": [
    {
     "name": "stdout",
     "output_type": "stream",
     "text": [
      "[[ 0.96466845  0.          0.        ]\n",
      " [ 0.         -1.7149662   0.        ]\n",
      " [ 0.          0.         -1.        ]]\n",
      "[[ 0.9068973  0.         0.       ]\n",
      " [ 0.        -1.6122618  0.       ]\n",
      " [ 0.         0.        -1.       ]]\n",
      "[[ 0.9828279  0.         0.       ]\n",
      " [ 0.        -1.7472496  0.       ]\n",
      " [ 0.         0.        -1.       ]]\n",
      "[[ 0.9992977  0.         0.       ]\n",
      " [ 0.        -1.7765293  0.       ]\n",
      " [ 0.         0.        -1.       ]]\n",
      "[[ 0.96641344  0.          0.        ]\n",
      " [ 0.         -1.7180684   0.        ]\n",
      " [ 0.          0.         -1.        ]]\n",
      "[[ 1.010491   0.         0.       ]\n",
      " [ 0.        -1.7964283  0.       ]\n",
      " [ 0.         0.        -1.       ]]\n",
      "[[ 0.94523203  0.          0.        ]\n",
      " [ 0.         -1.6804125   0.        ]\n",
      " [ 0.          0.         -1.        ]]\n",
      "[[ 0.9919664  0.         0.       ]\n",
      " [ 0.        -1.7634958  0.       ]\n",
      " [ 0.         0.        -1.       ]]\n",
      "[[ 1.0067824  0.         0.       ]\n",
      " [ 0.        -1.7898355  0.       ]\n",
      " [ 0.         0.        -1.       ]]\n",
      "[[ 1.1124818  0.         0.       ]\n",
      " [ 0.        -1.9777454  0.       ]\n",
      " [ 0.         0.        -1.       ]]\n"
     ]
    }
   ],
   "source": [
    "for i in range(0, 1000, 100):\n",
    "    print(str(dataset[i]))"
   ]
  },
  {
   "cell_type": "code",
   "execution_count": 5,
   "metadata": {},
   "outputs": [
    {
     "name": "stdout",
     "output_type": "stream",
     "text": [
      "0.965, 1.715\n",
      "1.037, 1.844\n",
      "1.012, 1.799\n",
      "1.171, 2.082\n",
      "0.953, 1.695\n",
      "0.907, 1.612\n",
      "1.145, 2.036\n",
      "0.959, 1.705\n",
      "0.994, 1.768\n",
      "0.947, 1.684\n",
      "0.983, 1.747\n",
      "1.000, 1.779\n",
      "1.004, 1.784\n",
      "0.958, 1.704\n",
      "0.950, 1.689\n",
      "0.999, 1.777\n",
      "0.865, 1.537\n",
      "1.012, 1.798\n",
      "1.320, 2.346\n",
      "0.997, 1.773\n",
      "0.966, 1.718\n",
      "0.954, 1.695\n",
      "1.242, 2.209\n",
      "1.006, 1.789\n",
      "0.749, 1.331\n",
      "1.010, 1.796\n",
      "1.182, 2.102\n",
      "1.083, 1.925\n",
      "0.981, 1.745\n",
      "1.388, 2.467\n",
      "0.945, 1.680\n",
      "1.000, 1.778\n",
      "1.514, 2.691\n",
      "0.996, 1.770\n",
      "0.939, 1.670\n",
      "0.992, 1.763\n",
      "1.051, 1.868\n",
      "0.983, 1.747\n",
      "0.966, 1.718\n",
      "1.000, 1.778\n",
      "1.007, 1.790\n",
      "0.985, 1.751\n",
      "1.048, 1.862\n",
      "1.001, 1.780\n",
      "0.990, 1.759\n",
      "1.112, 1.978\n",
      "0.957, 1.701\n",
      "0.925, 1.645\n",
      "0.966, 1.718\n",
      "1.007, 1.790\n"
     ]
    }
   ],
   "source": [
    "for i in range(0, 1000, 20):\n",
    "    K = dataset[i]\n",
    "    fx = K[0, 0]\n",
    "    fy = -K[1, 1]\n",
    "    print(f\"{fx:.3f}, {fy:.3f}\")"
   ]
  },
  {
   "cell_type": "code",
   "execution_count": null,
   "metadata": {},
   "outputs": [],
   "source": []
  }
 ],
 "metadata": {
  "kernelspec": {
   "display_name": "Python 3",
   "language": "python",
   "name": "python3"
  },
  "language_info": {
   "codemirror_mode": {
    "name": "ipython",
    "version": 3
   },
   "file_extension": ".py",
   "mimetype": "text/x-python",
   "name": "python",
   "nbconvert_exporter": "python",
   "pygments_lexer": "ipython3",
   "version": "3.7.7"
  }
 },
 "nbformat": 4,
 "nbformat_minor": 4
}
