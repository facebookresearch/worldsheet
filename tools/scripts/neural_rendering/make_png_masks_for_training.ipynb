{
 "cells": [
  {
   "cell_type": "code",
   "execution_count": null,
   "metadata": {},
   "outputs": [],
   "source": [
    "cd ~/workspace/mmf_nr/"
   ]
  },
  {
   "cell_type": "code",
   "execution_count": null,
   "metadata": {},
   "outputs": [],
   "source": [
    "import skimage.io\n",
    "import os\n",
    "from glob import glob\n",
    "from tqdm import tqdm\n",
    "import warnings\n",
    "import numpy as np"
   ]
  },
  {
   "cell_type": "code",
   "execution_count": null,
   "metadata": {},
   "outputs": [],
   "source": [
    "inpainting_src_dirs = 'save/external_inpainting_synsin_realestate10k/realestate10k_nodepth_perceptual_l1laplacian_inpaintGonly_scale2_lowL1/50000/realestate10k_inpainting_{}/inpainting_src/'\n",
    "inpainting_mask_dirs = 'save/external_inpainting_synsin_realestate10k/realestate10k_nodepth_perceptual_l1laplacian_inpaintGonly_scale2_lowL1/50000/realestate10k_inpainting_{}/inpainting_mask/'\n",
    "\n",
    "splits = ['train_dup2', 'val', 'test']"
   ]
  },
  {
   "cell_type": "code",
   "execution_count": null,
   "metadata": {},
   "outputs": [],
   "source": [
    "def extract_mask_for_dir(inpainting_src_dir, inpainting_mask_dir):\n",
    "    src_png_files = sorted(glob(os.path.join(inpainting_src_dir, \"*.png\")))\n",
    "    os.makedirs(inpainting_mask_dir, exist_ok=True)\n",
    "    warnings.filterwarnings('ignore', category=UserWarning)  # ignore warning on low-constract images\n",
    "    for src_file in tqdm(src_png_files):\n",
    "        assert src_file.startswith(inpainting_src_dir)\n",
    "        mask_file = src_file.replace(inpainting_src_dir, inpainting_mask_dir)\n",
    "\n",
    "        im = skimage.io.imread(src_file)\n",
    "        mask = im[..., 3]\n",
    "        assert mask.dtype == np.uint8\n",
    "        # flip the mask: Rethinking-Inpainting-MEDFE needs 1 on regions to inpaint\n",
    "        # which is the opposite to our alpha_mask from mesh rendering\n",
    "        mask = 255 - mask\n",
    "        skimage.io.imsave(mask_file, mask)"
   ]
  },
  {
   "cell_type": "code",
   "execution_count": null,
   "metadata": {},
   "outputs": [],
   "source": [
    "for split in splits:\n",
    "    print('processing split', split)\n",
    "    extract_mask_for_dir(\n",
    "        inpainting_src_dirs.format(split), inpainting_mask_dirs.format(split)\n",
    "    )"
   ]
  },
  {
   "cell_type": "code",
   "execution_count": null,
   "metadata": {},
   "outputs": [],
   "source": []
  }
 ],
 "metadata": {
  "kernelspec": {
   "display_name": "Python 3",
   "language": "python",
   "name": "python3"
  },
  "language_info": {
   "codemirror_mode": {
    "name": "ipython",
    "version": 3
   },
   "file_extension": ".py",
   "mimetype": "text/x-python",
   "name": "python",
   "nbconvert_exporter": "python",
   "pygments_lexer": "ipython3",
   "version": "3.7.7"
  }
 },
 "nbformat": 4,
 "nbformat_minor": 4
}
