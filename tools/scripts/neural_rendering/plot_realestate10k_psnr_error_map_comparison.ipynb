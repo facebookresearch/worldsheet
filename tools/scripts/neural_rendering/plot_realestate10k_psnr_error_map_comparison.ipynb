{
 "cells": [
  {
   "cell_type": "code",
   "execution_count": null,
   "metadata": {},
   "outputs": [],
   "source": [
    "import os\n",
    "\n",
    "import skimage.io\n",
    "import numpy as np\n",
    "from glob import glob\n",
    "import matplotlib.pyplot as plt"
   ]
  },
  {
   "cell_type": "code",
   "execution_count": null,
   "metadata": {},
   "outputs": [],
   "source": [
    "exp_name = 'realestate10k_nodepth_perceptual_l1laplacian_inpaintGonly_scale2_lowL1'\n",
    "n_iter = 50000\n",
    "split = 'realestate10k_test'"
   ]
  },
  {
   "cell_type": "code",
   "execution_count": null,
   "metadata": {},
   "outputs": [],
   "source": [
    "def plot_psnr(input, pred, gt, method=\"\", compare=False):\n",
    "    n_row = 2 if compare else 1\n",
    "    plt.subplot(n_row, 4, 1)\n",
    "    plt.imshow(input)\n",
    "    plt.title(f\"input\", fontsize=18)\n",
    "\n",
    "    plt.subplot(n_row, 4, 2)\n",
    "    plt.imshow(gt)\n",
    "    plt.title(f\"ground-truth\", fontsize=18)\n",
    "\n",
    "    plt.subplot(n_row, 4, 3)\n",
    "    plt.imshow(pred)\n",
    "    plt.title(f\"prediction {method}\", fontsize=18)\n",
    "\n",
    "    plt.subplot(n_row, 4, 4)\n",
    "    error = (pred - gt) ** 2\n",
    "    mse_err = np.mean(error)\n",
    "    psnr = 10 * np.log10(1 / mse_err)\n",
    "\n",
    "    plt.imshow(np.minimum(error * 4, 1))\n",
    "    plt.title(f\"error map (PSNR: {psnr:.4f})\", fontsize=18)\n",
    "    \n",
    "\n",
    "def plot_psnr_compare(input, pred, gt, method=\"\"):\n",
    "    plt.subplot(2, 4, 5)\n",
    "    plt.imshow(input)\n",
    "    plt.title(f\"input\", fontsize=18)\n",
    "\n",
    "    plt.subplot(2, 4, 6)\n",
    "    plt.imshow(gt)\n",
    "    plt.title(f\"ground-truth\", fontsize=18)\n",
    "\n",
    "    plt.subplot(2, 4, 7)\n",
    "    plt.imshow(pred)\n",
    "    plt.title(f\"prediction {method}\", fontsize=18)\n",
    "\n",
    "    plt.subplot(2, 4, 8)\n",
    "    error = (pred - gt) ** 2\n",
    "    mse_err = np.mean(error)\n",
    "    psnr = 10 * np.log10(1 / mse_err)\n",
    "\n",
    "    plt.imshow(np.minimum(error * 4, 1))\n",
    "    plt.title(f\"error map (PSNR: {psnr:.4f})\", fontsize=18)"
   ]
  },
  {
   "cell_type": "code",
   "execution_count": null,
   "metadata": {
    "scrolled": false
   },
   "outputs": [],
   "source": [
    "plt.close('all')\n",
    "for idx in range(0, 15):\n",
    "    ours_png_file = f'/private/home/ronghanghu/workspace/mmf_nr/save/prediction_synsin_realestate10k/{exp_name}/{n_iter}/{split}/{idx:04d}/output_image_.png'\n",
    "    synsin_png_file = f\"/private/home/ronghanghu/workspace/synsin/results_realestate10K/{idx:04d}/output_image_.png\"\n",
    "    input_png_file = f\"/private/home/ronghanghu/workspace/synsin/results_realestate10K/{idx:04d}/input_image_.png\"\n",
    "    tgt_png_file = f\"/private/home/ronghanghu/workspace/synsin/results_realestate10K/{idx:04d}/tgt_image_.png\"\n",
    "\n",
    "    im_ours = skimage.img_as_float32(skimage.io.imread(ours_png_file))\n",
    "    im_synsin = skimage.img_as_float32(skimage.io.imread(synsin_png_file))\n",
    "    im_input = skimage.img_as_float32(skimage.io.imread(input_png_file))\n",
    "    im_tgt = skimage.img_as_float32(skimage.io.imread(tgt_png_file))\n",
    "\n",
    "    plt.figure(figsize=(20, 10))\n",
    "    plot_psnr(im_input, im_ours, im_tgt, \"- Ours\", compare=True)\n",
    "    plot_psnr_compare(im_input, im_synsin, im_tgt, \"- SynSin\")"
   ]
  },
  {
   "cell_type": "code",
   "execution_count": null,
   "metadata": {},
   "outputs": [],
   "source": []
  }
 ],
 "metadata": {
  "kernelspec": {
   "display_name": "Python 3",
   "language": "python",
   "name": "python3"
  },
  "language_info": {
   "codemirror_mode": {
    "name": "ipython",
    "version": 3
   },
   "file_extension": ".py",
   "mimetype": "text/x-python",
   "name": "python",
   "nbconvert_exporter": "python",
   "pygments_lexer": "ipython3",
   "version": "3.7.7"
  }
 },
 "nbformat": 4,
 "nbformat_minor": 4
}
