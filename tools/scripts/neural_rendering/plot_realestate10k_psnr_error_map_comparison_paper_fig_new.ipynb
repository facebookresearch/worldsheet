{
 "cells": [
  {
   "cell_type": "code",
   "execution_count": 1,
   "metadata": {},
   "outputs": [],
   "source": [
    "import os\n",
    "\n",
    "import numpy as np\n",
    "from glob import glob\n",
    "import matplotlib.pyplot as plt\n",
    "import skimage.io\n",
    "\n",
    "from tqdm import tqdm"
   ]
  },
  {
   "cell_type": "code",
   "execution_count": 2,
   "metadata": {},
   "outputs": [],
   "source": [
    "exp_name = 'realestate10k_dscale2_stride4ft_lowerL1_200'\n",
    "n_iter = 50000\n",
    "split = 'realestate10k_test'\n",
    "\n",
    "save_fig_dir = '/private/home/ronghanghu/workspace/mmf_nr/save/paper_fig/realestate10k_psnr_new'\n",
    "os.makedirs(save_fig_dir, exist_ok=True)"
   ]
  },
  {
   "cell_type": "code",
   "execution_count": 3,
   "metadata": {},
   "outputs": [],
   "source": [
    "def plot_psnr(input, pred, gt, method=\"\", compare=False):\n",
    "    error = (pred - gt) ** 2\n",
    "    mse_err = np.mean(error)\n",
    "    psnr = 10 * np.log10(1 / mse_err)\n",
    "\n",
    "    n_row = 2 if compare else 1\n",
    "#     plt.subplot(n_row, 4, 2)\n",
    "#     plt.imshow(input)\n",
    "#     plt.title(f\"input view\", fontsize=32)\n",
    "#     plt.axis(\"off\")\n",
    "\n",
    "    ax = plt.subplot(n_row, 4, 6)\n",
    "    plt.imshow(gt)\n",
    "    plt.xlabel(f\"GT target view\", fontsize=32, fontname='serif')\n",
    "#     plt.axis('off')\n",
    "    turn_off_axis_color()\n",
    "\n",
    "    ax = plt.subplot(n_row, 4, 7)\n",
    "    plt.imshow(pred)\n",
    "    plt.xlabel(f\"{method}\", fontsize=32, fontname='serif')\n",
    "#     plt.axis('off')\n",
    "    turn_off_axis_color()\n",
    "\n",
    "    ax = plt.subplot(n_row, 4, 3)\n",
    "    plt.imshow(pad_error_map(1 - np.minimum(error * 4, 1)))\n",
    "    plt.xlabel(f\"sqr. error\\n(PSNR: {psnr:.1f})\", fontsize=32, fontname='serif')\n",
    "#     plt.axis('off')\n",
    "    turn_off_axis_color()\n",
    "    \n",
    "\n",
    "def plot_psnr_compare(input, pred, gt, method=\"\"):\n",
    "    error = (pred - gt) ** 2\n",
    "    mse_err = np.mean(error)\n",
    "    psnr = 10 * np.log10(1 / mse_err)\n",
    "\n",
    "    ax = plt.subplot(2, 4, 2)\n",
    "    plt.imshow(input)\n",
    "    plt.xlabel(f\"input view\", fontsize=32, fontname='serif')\n",
    "#     plt.axis('off')\n",
    "    turn_off_axis_color()\n",
    "\n",
    "#     plt.subplot(2, 4, 6)\n",
    "#     plt.imshow(gt)\n",
    "#     plt.title(f\"GT target view\", fontsize=32)\n",
    "#     plt.axis(\"off\")\n",
    "\n",
    "    ax = plt.subplot(2, 4, 8)\n",
    "    plt.imshow(pred)\n",
    "    plt.xlabel(f\"{method}\", fontsize=32, fontname='serif')\n",
    "#     plt.axis('off')\n",
    "    turn_off_axis_color()\n",
    "\n",
    "    ax = plt.subplot(2, 4, 4)\n",
    "    plt.imshow(pad_error_map(1 - np.minimum(error * 4, 1)))\n",
    "    plt.xlabel(f\"sqr. error\\n(PSNR: {psnr:.1f})\", fontsize=32, fontname='serif')\n",
    "#     plt.axis('off')\n",
    "    turn_off_axis_color()\n",
    "\n",
    "    \n",
    "def pad_error_map(error, c=230/255):\n",
    "    error[0, :] = c\n",
    "    error[-1, :] = c\n",
    "    error[:, 0] = c\n",
    "    error[:, -1] = c\n",
    "    return error\n",
    "\n",
    "\n",
    "def turn_off_axis_color():\n",
    "    plt.xticks([])\n",
    "    plt.yticks([])\n",
    "    plt.gca().spines['bottom'].set_color('#ffffff')\n",
    "    plt.gca().spines['top'].set_color('#ffffff') \n",
    "    plt.gca().spines['right'].set_color('#ffffff')\n",
    "    plt.gca().spines['left'].set_color('#ffffff')"
   ]
  },
  {
   "cell_type": "code",
   "execution_count": 4,
   "metadata": {
    "scrolled": false
   },
   "outputs": [
    {
     "name": "stderr",
     "output_type": "stream",
     "text": [
      "100%|██████████| 1000/1000 [09:16<00:00,  1.80it/s]\n"
     ]
    }
   ],
   "source": [
    "plt.close('all')\n",
    "for idx in tqdm(range(0, 1000)):\n",
    "    ours_png_file = f'/private/home/ronghanghu/workspace/mmf_nr/save/prediction_synsin_realestate10k/{exp_name}/{n_iter}/{split}/{idx:04d}/output_image_.png'\n",
    "    synsin_png_file = f\"/private/home/ronghanghu/workspace/synsin/results_realestate10K_short/{idx:04d}/output_image_.png\"\n",
    "    input_png_file = f\"/private/home/ronghanghu/workspace/synsin/results_realestate10K_short/{idx:04d}/input_image_.png\"\n",
    "    tgt_png_file = f\"/private/home/ronghanghu/workspace/synsin/results_realestate10K_short/{idx:04d}/tgt_image_.png\"\n",
    "\n",
    "    im_ours = skimage.img_as_float32(skimage.io.imread(ours_png_file))\n",
    "    im_synsin = skimage.img_as_float32(skimage.io.imread(synsin_png_file))\n",
    "    im_input = skimage.img_as_float32(skimage.io.imread(input_png_file))\n",
    "    im_tgt = skimage.img_as_float32(skimage.io.imread(tgt_png_file))\n",
    "\n",
    "    plt.figure(figsize=(20, 11.5))\n",
    "    plt.subplots_adjust(wspace=0.05)\n",
    "    plt.subplots_adjust(hspace=0.2)\n",
    "    plot_psnr(im_input, im_ours, im_tgt, \"ours\", compare=True)\n",
    "    plot_psnr_compare(im_input, im_synsin, im_tgt, \"SynSin\")\n",
    "    plt.savefig(f\"{save_fig_dir}/{idx:04d}.pdf\", bbox_inches=\"tight\")\n",
    "    plt.close('all')"
   ]
  },
  {
   "cell_type": "code",
   "execution_count": null,
   "metadata": {},
   "outputs": [],
   "source": []
  }
 ],
 "metadata": {
  "kernelspec": {
   "display_name": "Python 3",
   "language": "python",
   "name": "python3"
  },
  "language_info": {
   "codemirror_mode": {
    "name": "ipython",
    "version": 3
   },
   "file_extension": ".py",
   "mimetype": "text/x-python",
   "name": "python",
   "nbconvert_exporter": "python",
   "pygments_lexer": "ipython3",
   "version": "3.7.7"
  }
 },
 "nbformat": 4,
 "nbformat_minor": 4
}
