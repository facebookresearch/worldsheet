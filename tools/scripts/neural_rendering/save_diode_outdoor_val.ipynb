{
 "cells": [
  {
   "cell_type": "code",
   "execution_count": null,
   "metadata": {},
   "outputs": [],
   "source": [
    "import sys; sys.path.append('/private/home/ronghanghu/workspace/DATASETS/diode-devkit/')\n",
    "\n",
    "import diode\n",
    "import numpy as np\n",
    "import skimage.transform\n",
    "import skimage.io\n",
    "import os\n",
    "import tqdm"
   ]
  },
  {
   "cell_type": "code",
   "execution_count": null,
   "metadata": {},
   "outputs": [],
   "source": [
    "TYPE = 'outdoor'\n",
    "SPLIT = 'val'\n",
    "\n",
    "SAVE_IM_DIR = f'/checkpoint/ronghanghu/neural_rendering_datasets/diode_45fov_256x256_{TYPE}/{SPLIT}/images'\n",
    "SAVE_DATA_DIR = f'/checkpoint/ronghanghu/neural_rendering_datasets/diode_45fov_256x256_{TYPE}/{SPLIT}/data'\n",
    "\n",
    "dataset = diode.DIODE(\n",
    "    meta_fname='/private/home/ronghanghu/workspace/DATASETS/diode-devkit/diode_meta.json',\n",
    "    data_root='/checkpoint/ronghanghu/neural_rendering_datasets/diode/',\n",
    "    splits=[SPLIT],\n",
    "    scene_types=[TYPE]\n",
    ")\n",
    "\n",
    "os.makedirs(SAVE_IM_DIR, exist_ok=True)\n",
    "os.makedirs(SAVE_DATA_DIR, exist_ok=True)"
   ]
  },
  {
   "cell_type": "code",
   "execution_count": null,
   "metadata": {},
   "outputs": [],
   "source": [
    "class DiodeProcessor:\n",
    "    def __init__(self):\n",
    "        self.CROP_W = 734\n",
    "        self.OUT_SIZE = 256\n",
    "\n",
    "    def crop_and_resize(self, im, order):\n",
    "        H, W = im.shape[:2]\n",
    "        diff = (W - self.CROP_W) // 2\n",
    "        im = im[:, diff:-diff]\n",
    "        out = skimage.transform.resize(im, (self.OUT_SIZE, self.OUT_SIZE), order=order)\n",
    "        return out\n",
    "    \n",
    "    def __call__(self, im, de, de_mask):\n",
    "        de = de.copy()\n",
    "        de[de_mask == 0] = 0\n",
    "        im = self.crop_and_resize(im, order=None)\n",
    "        de = self.crop_and_resize(de, order=0)  # nearest neighbor sampling on depth map\n",
    "        de = de.astype(np.float32)\n",
    "        \n",
    "        # also downsample the mask and use it to mask invalid regions\n",
    "        de_mask = self.crop_and_resize(de_mask, order=None)\n",
    "        de_mask = (1 - de_mask < 1e-8)\n",
    "        de[~de_mask] = 0\n",
    "        return im, de\n",
    "\n",
    "\n",
    "processor = DiodeProcessor()"
   ]
  },
  {
   "cell_type": "code",
   "execution_count": null,
   "metadata": {},
   "outputs": [],
   "source": [
    "Rs = np.tile(np.eye(3, dtype=np.float32)[None, ...], (2, 1, 1))\n",
    "Ts = np.tile(np.zeros(3, dtype=np.float32)[None, ...], (2, 1))\n",
    "\n",
    "for n_sample in tqdm.tqdm(range(len(dataset))):\n",
    "    im, de, de_mask = dataset[n_sample]\n",
    "    im_out, depth_out = processor(im, de, de_mask)\n",
    "\n",
    "    # save two identical images (just for easier data loading)\n",
    "    im_filename = 'scene_{:04d}_sample_{:08d}_im_{:04d}.jpg'.format(0, n_sample, 0)\n",
    "    skimage.io.imsave(os.path.join(SAVE_IM_DIR, im_filename), skimage.img_as_ubyte(im_out))\n",
    "    im_filename = 'scene_{:04d}_sample_{:08d}_im_{:04d}.jpg'.format(0, n_sample, 1)\n",
    "    skimage.io.imsave(os.path.join(SAVE_IM_DIR, im_filename), skimage.img_as_ubyte(im_out))\n",
    "\n",
    "    npy_filename = 'scene_{:04d}_sample_{:08d}.npz'.format(0, n_sample)\n",
    "    np.savez_compressed(\n",
    "        os.path.join(SAVE_DATA_DIR, npy_filename),\n",
    "        depths=np.tile(depth_out[None, ..., None], (2, 1, 1, 1)),\n",
    "        camera_Rs=Rs,\n",
    "        camera_Ts=Ts\n",
    "    )"
   ]
  },
  {
   "cell_type": "code",
   "execution_count": null,
   "metadata": {},
   "outputs": [],
   "source": []
  }
 ],
 "metadata": {
  "kernelspec": {
   "display_name": "Python 3",
   "language": "python",
   "name": "python3"
  },
  "language_info": {
   "codemirror_mode": {
    "name": "ipython",
    "version": 3
   },
   "file_extension": ".py",
   "mimetype": "text/x-python",
   "name": "python",
   "nbconvert_exporter": "python",
   "pygments_lexer": "ipython3",
   "version": "3.7.7"
  }
 },
 "nbformat": 4,
 "nbformat_minor": 4
}
