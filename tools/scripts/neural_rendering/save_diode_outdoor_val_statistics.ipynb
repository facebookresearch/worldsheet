{
 "cells": [
  {
   "cell_type": "code",
   "execution_count": null,
   "metadata": {},
   "outputs": [],
   "source": [
    "import sys; sys.path.append('/private/home/ronghanghu/workspace/DATASETS/diode-devkit/')\n",
    "\n",
    "import diode\n",
    "import numpy as np\n",
    "import skimage.transform\n",
    "import skimage.io\n",
    "import os\n",
    "import tqdm"
   ]
  },
  {
   "cell_type": "code",
   "execution_count": null,
   "metadata": {},
   "outputs": [],
   "source": [
    "TYPE = 'outdoor'\n",
    "SPLIT = 'val'\n",
    "\n",
    "SAVE_IM_DIR = f'/checkpoint/ronghanghu/neural_rendering_datasets/diode_45fov_256x256_{TYPE}/{SPLIT}/images'\n",
    "SAVE_DATA_DIR = f'/checkpoint/ronghanghu/neural_rendering_datasets/diode_45fov_256x256_{TYPE}/{SPLIT}/data'\n",
    "\n",
    "dataset = diode.DIODE(\n",
    "    meta_fname='/private/home/ronghanghu/workspace/DATASETS/diode-devkit/diode_meta.json',\n",
    "    data_root='/checkpoint/ronghanghu/neural_rendering_datasets/diode/',\n",
    "    splits=[SPLIT],\n",
    "    scene_types=[TYPE]\n",
    ")\n",
    "\n",
    "os.makedirs(SAVE_IM_DIR, exist_ok=True)\n",
    "os.makedirs(SAVE_DATA_DIR, exist_ok=True)"
   ]
  },
  {
   "cell_type": "code",
   "execution_count": null,
   "metadata": {},
   "outputs": [],
   "source": [
    "class DiodeProcessor:\n",
    "    def __init__(self):\n",
    "        self.CROP_W = 734\n",
    "        self.OUT_SIZE = 256\n",
    "\n",
    "    def crop_and_resize(self, im, order):\n",
    "        H, W = im.shape[:2]\n",
    "        diff = (W - self.CROP_W) // 2\n",
    "        im = im[:, diff:-diff]\n",
    "        out = skimage.transform.resize(im, (self.OUT_SIZE, self.OUT_SIZE), order=order)\n",
    "        return out\n",
    "    \n",
    "    def __call__(self, im, de, de_mask):\n",
    "        de = de.copy()\n",
    "        de[de_mask == 0] = 0\n",
    "        im = self.crop_and_resize(im, order=None)\n",
    "        de = self.crop_and_resize(de, order=0)  # nearest neighbor sampling on depth map\n",
    "        de = de.astype(np.float32)\n",
    "        \n",
    "        # also downsample the mask and use it to mask invalid regions\n",
    "        de_mask = self.crop_and_resize(de_mask, order=None)\n",
    "        de_mask = (1 - de_mask < 1e-8)\n",
    "        de[~de_mask] = 0\n",
    "        return im, de\n",
    "\n",
    "\n",
    "processor = DiodeProcessor()"
   ]
  },
  {
   "cell_type": "code",
   "execution_count": null,
   "metadata": {},
   "outputs": [],
   "source": [
    "mean_rgb = 0\n",
    "mean_depth = 0\n",
    "count = 0\n",
    "for n_sample in tqdm.tqdm(range(len(dataset))):\n",
    "    im, de, de_mask = dataset[n_sample]\n",
    "    im_out, depth_out = processor(im, de, de_mask)\n",
    "\n",
    "    mean_rgb += np.mean(im_out, axis=(0, 1))\n",
    "    mean_depth += np.sum(depth_out) / np.sum(depth_out > 0)\n",
    "    count += 1"
   ]
  },
  {
   "cell_type": "code",
   "execution_count": null,
   "metadata": {},
   "outputs": [],
   "source": [
    "mean_rgb = mean_rgb / count\n",
    "mean_depth = mean_depth / count\n",
    "\n",
    "print(mean_rgb)\n",
    "print(mean_depth)"
   ]
  },
  {
   "cell_type": "code",
   "execution_count": null,
   "metadata": {},
   "outputs": [],
   "source": [
    "import matplotlib.pyplot as plt\n",
    "\n",
    "im, de, de_mask = dataset[10]\n",
    "im_out, depth_out = processor(im, de, de_mask)\n",
    "\n",
    "plt.figure()\n",
    "plt.imshow(im_out)\n",
    "plt.figure()\n",
    "plt.imshow(depth_out)\n",
    "plt.colorbar()\n",
    "plt.title(f'mean depth: {np.sum(depth_out) / np.sum(depth_out > 0)}')"
   ]
  },
  {
   "cell_type": "code",
   "execution_count": null,
   "metadata": {},
   "outputs": [],
   "source": []
  }
 ],
 "metadata": {
  "kernelspec": {
   "display_name": "Python 3",
   "language": "python",
   "name": "python3"
  },
  "language_info": {
   "codemirror_mode": {
    "name": "ipython",
    "version": 3
   },
   "file_extension": ".py",
   "mimetype": "text/x-python",
   "name": "python",
   "nbconvert_exporter": "python",
   "pygments_lexer": "ipython3",
   "version": "3.7.7"
  }
 },
 "nbformat": 4,
 "nbformat_minor": 4
}
