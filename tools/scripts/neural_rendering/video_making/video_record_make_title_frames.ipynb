{
 "cells": [
  {
   "cell_type": "code",
   "execution_count": null,
   "metadata": {},
   "outputs": [],
   "source": [
    "cd /private/home/ronghanghu/workspace/mmf_nr"
   ]
  },
  {
   "cell_type": "code",
   "execution_count": null,
   "metadata": {},
   "outputs": [],
   "source": [
    "import cv2\n",
    "import os\n",
    "\n",
    "\n",
    "def write_video_uint8_bgr(frames, file):\n",
    "    frame_size = (frames[-1].shape[1], frames[-1].shape[0])\n",
    "    fourcc = cv2.VideoWriter_fourcc(*\"MP4V\")\n",
    "    fps = 30\n",
    "    writer = cv2.VideoWriter(file, fourcc, fps, frame_size)\n",
    "    for img in frames:\n",
    "        writer.write(img)\n",
    "    writer.release()"
   ]
  },
  {
   "cell_type": "code",
   "execution_count": null,
   "metadata": {},
   "outputs": [],
   "source": [
    "frame_file = './tools/scripts/neural_rendering/video_making/data/realestate10k_title.png'\n",
    "background_frame = cv2.imread(frame_file)\n",
    "frames = [background_frame] * 75\n",
    "video_file = f\"./save/realestate10k_videos/{os.path.basename(frame_file).split('.')[0]}.mp4\"\n",
    "os.makedirs(os.path.dirname(video_file), exist_ok=True)\n",
    "write_video_uint8_bgr(frames, video_file)"
   ]
  },
  {
   "cell_type": "code",
   "execution_count": null,
   "metadata": {},
   "outputs": [],
   "source": [
    "frame_file = './tools/scripts/neural_rendering/video_making/data/popup_title1.png'\n",
    "background_frame = cv2.imread(frame_file)\n",
    "frames = [background_frame] * 75\n",
    "video_file = f\"./save/realestate10k_videos/{os.path.basename(frame_file).split('.')[0]}.mp4\"\n",
    "os.makedirs(os.path.dirname(video_file), exist_ok=True)\n",
    "write_video_uint8_bgr(frames, video_file)"
   ]
  },
  {
   "cell_type": "code",
   "execution_count": null,
   "metadata": {},
   "outputs": [],
   "source": [
    "frame_file = './tools/scripts/neural_rendering/video_making/data/popup_title2.png'\n",
    "background_frame = cv2.imread(frame_file)\n",
    "frames = [background_frame] * 60\n",
    "video_file = f\"./save/realestate10k_videos/{os.path.basename(frame_file).split('.')[0]}.mp4\"\n",
    "os.makedirs(os.path.dirname(video_file), exist_ok=True)\n",
    "write_video_uint8_bgr(frames, video_file)"
   ]
  },
  {
   "cell_type": "code",
   "execution_count": null,
   "metadata": {},
   "outputs": [],
   "source": []
  }
 ],
 "metadata": {
  "kernelspec": {
   "display_name": "Python 3",
   "language": "python",
   "name": "python3"
  },
  "language_info": {
   "codemirror_mode": {
    "name": "ipython",
    "version": 3
   },
   "file_extension": ".py",
   "mimetype": "text/x-python",
   "name": "python",
   "nbconvert_exporter": "python",
   "pygments_lexer": "ipython3",
   "version": "3.7.7"
  }
 },
 "nbformat": 4,
 "nbformat_minor": 4
}
