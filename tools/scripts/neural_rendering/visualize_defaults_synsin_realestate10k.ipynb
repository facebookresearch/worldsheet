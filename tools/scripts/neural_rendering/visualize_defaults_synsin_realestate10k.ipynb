{
 "cells": [
  {
   "cell_type": "code",
   "execution_count": null,
   "metadata": {},
   "outputs": [],
   "source": [
    "import os\n",
    "\n",
    "import numpy as np\n",
    "from glob import glob\n",
    "import matplotlib.pyplot as plt"
   ]
  },
  {
   "cell_type": "code",
   "execution_count": null,
   "metadata": {},
   "outputs": [],
   "source": [
    "exp_name = 'realestate10k_nodepth_perceptual_l1laplacian_inpaintGonly_scale2_long'\n",
    "n_iter = 100000\n",
    "split = 'realestate10k_test'"
   ]
  },
  {
   "cell_type": "code",
   "execution_count": null,
   "metadata": {},
   "outputs": [],
   "source": [
    "def plot_results(results, image_name='', exp_name=''):\n",
    "    plt.figure(figsize=(15, 10))\n",
    "\n",
    "    max_depth_0 = np.max(results['depth_0_rec'])\n",
    "    max_depth_1 = np.max(results['depth_1_rec'])\n",
    "\n",
    "    plt.subplot(2, 3, 1)\n",
    "    plt.imshow(results['orig_img_0'])\n",
    "    plt.title('input view')\n",
    "    plt.xlabel(image_name)\n",
    "\n",
    "    plt.subplot(2, 3, 4)\n",
    "    plt.imshow(results['depth_0_rec'], vmin=0, vmax=max_depth_0)\n",
    "    plt.title('predicted View 0 depth')\n",
    "\n",
    "    plt.subplot(2, 3, 5)\n",
    "    plt.imshow(results['depth_1_rec'], vmin=0, vmax=max_depth_1)\n",
    "    plt.title('predicted View 1 depth')\n",
    "\n",
    "    plt.subplot(2, 3, 2)\n",
    "    plt.imshow(results['orig_img_1'])\n",
    "    plt.title('ground-truth novel view')\n",
    "    plt.xlabel(exp_name)\n",
    "\n",
    "    plt.subplot(2, 3, 6)\n",
    "    plt.imshow(results['rgba_1_rec'][..., :3])\n",
    "    plt.title('novel view (ours w/o inpaint)')\n",
    "\n",
    "    plt.subplot(2, 3, 3)\n",
    "    plt.imshow(results['rgb_1_inpaint'][..., :3])\n",
    "    plt.title('novel view (ours)')"
   ]
  },
  {
   "cell_type": "code",
   "execution_count": null,
   "metadata": {
    "scrolled": false
   },
   "outputs": [],
   "source": [
    "save_dir = f'/private/home/ronghanghu/workspace/mmf_nr/save/visualization_synsin_realestate10k/{exp_name}/{n_iter}/{split}'\n",
    "result_files = sorted(glob(os.path.join(save_dir, '*.npz')))\n",
    "\n",
    "for file in result_files[:10]:\n",
    "    d = np.load(file)\n",
    "    results = dict(d)\n",
    "    plot_results(results, os.path.basename(file).split('.')[0], exp_name)\n",
    "    d.close()"
   ]
  },
  {
   "cell_type": "code",
   "execution_count": null,
   "metadata": {},
   "outputs": [],
   "source": []
  }
 ],
 "metadata": {
  "kernelspec": {
   "display_name": "Python 3",
   "language": "python",
   "name": "python3"
  },
  "language_info": {
   "codemirror_mode": {
    "name": "ipython",
    "version": 3
   },
   "file_extension": ".py",
   "mimetype": "text/x-python",
   "name": "python",
   "nbconvert_exporter": "python",
   "pygments_lexer": "ipython3",
   "version": "3.7.7"
  }
 },
 "nbformat": 4,
 "nbformat_minor": 4
}
