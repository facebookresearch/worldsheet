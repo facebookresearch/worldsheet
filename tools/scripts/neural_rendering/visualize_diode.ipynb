{
 "cells": [
  {
   "cell_type": "code",
   "execution_count": null,
   "metadata": {},
   "outputs": [],
   "source": [
    "import os\n",
    "\n",
    "import numpy as np\n",
    "from glob import glob\n",
    "import matplotlib.pyplot as plt"
   ]
  },
  {
   "cell_type": "code",
   "execution_count": null,
   "metadata": {},
   "outputs": [],
   "source": [
    "save_dir = '/private/home/ronghanghu/workspace/mmf_nr/save/visualization_diode/depth/val/'"
   ]
  },
  {
   "cell_type": "code",
   "execution_count": null,
   "metadata": {},
   "outputs": [],
   "source": [
    "def plot_results(results, image_name=''):\n",
    "    plt.figure(figsize=(20, 5))\n",
    "\n",
    "    # depth at 100 are invalid depth\n",
    "    max_depth_0 = np.log(np.max(\n",
    "        np.where(results['depth_0'] < 100, results['depth_0'], 0.)\n",
    "    ) * 1.05)\n",
    "\n",
    "    plt.subplot(1, 3, 1)\n",
    "    plt.imshow(results['orig_img_0'])\n",
    "    plt.title('ground-truth RGB')\n",
    "\n",
    "    plt.subplot(1, 3, 2)\n",
    "    plt.imshow(np.log(results['depth_0']), vmin=0, vmax=max_depth_0)\n",
    "    plt.title('ground-truth depth (log scale)')\n",
    "    plt.xlabel(image_name)\n",
    "    plt.colorbar()\n",
    "\n",
    "    plt.subplot(1, 3, 3)\n",
    "    plt.imshow(np.log(results['depth_0_rec']), vmin=0, vmax=max_depth_0)\n",
    "    plt.title('predicted View 0 depth (log scale)')\n",
    "    plt.colorbar()"
   ]
  },
  {
   "cell_type": "code",
   "execution_count": null,
   "metadata": {
    "scrolled": false
   },
   "outputs": [],
   "source": [
    "plt.close('all')\n",
    "\n",
    "result_files = sorted(glob(os.path.join(save_dir, '*.npz')))\n",
    "np.random.seed(3)\n",
    "np.random.shuffle(result_files)\n",
    "\n",
    "for file in result_files[:20]:\n",
    "    d = np.load(file)\n",
    "    results = dict(d)\n",
    "    plot_results(results, os.path.basename(file).split('.')[0])\n",
    "    d.close()"
   ]
  },
  {
   "cell_type": "code",
   "execution_count": null,
   "metadata": {},
   "outputs": [],
   "source": []
  }
 ],
 "metadata": {
  "kernelspec": {
   "display_name": "Python 3",
   "language": "python",
   "name": "python3"
  },
  "language_info": {
   "codemirror_mode": {
    "name": "ipython",
    "version": 3
   },
   "file_extension": ".py",
   "mimetype": "text/x-python",
   "name": "python",
   "nbconvert_exporter": "python",
   "pygments_lexer": "ipython3",
   "version": "3.7.7"
  }
 },
 "nbformat": 4,
 "nbformat_minor": 4
}
