{
 "cells": [
  {
   "cell_type": "code",
   "execution_count": null,
   "metadata": {},
   "outputs": [],
   "source": [
    "import os\n",
    "\n",
    "import numpy as np\n",
    "from glob import glob\n",
    "import matplotlib.pyplot as plt"
   ]
  },
  {
   "cell_type": "code",
   "execution_count": null,
   "metadata": {},
   "outputs": [],
   "source": [
    "exp_name = 'inpaintGDBN_ganlossonly_l1laplacian'\n",
    "split = 'train'"
   ]
  },
  {
   "cell_type": "code",
   "execution_count": null,
   "metadata": {},
   "outputs": [],
   "source": [
    "# def plot_results(results, image_name=''):\n",
    "#     plt.figure(figsize=(20, 10))\n",
    "\n",
    "#     max_depth_0 = np.max(results['depth_0']) * 1.05\n",
    "#     max_depth_1 = np.max(results['depth_1']) * 1.05\n",
    "\n",
    "#     plt.subplot(2, 4, 1)\n",
    "#     plt.imshow(results['orig_img_0'])\n",
    "#     plt.title('ground-truth View 0 RGB')\n",
    "\n",
    "#     plt.subplot(2, 4, 2)\n",
    "#     plt.imshow(results['depth_0'], vmin=0, vmax=max_depth_0)\n",
    "#     plt.title('ground-truth View 0 depth')\n",
    "#     plt.xlabel(image_name)\n",
    "\n",
    "#     plt.subplot(2, 4, 3)\n",
    "#     plt.imshow(results['orig_img_1'])\n",
    "#     plt.title('ground-truth View 1 RGB')\n",
    "\n",
    "#     plt.subplot(2, 4, 4)\n",
    "#     plt.imshow(results['depth_1'], vmin=0, vmax=max_depth_1)\n",
    "#     plt.title('ground-truth View 1 depth')\n",
    "\n",
    "#     plt.subplot(2, 4, 5)\n",
    "#     plt.imshow(results['rgb_1_inpaint'], vmin=0, vmax=1)\n",
    "#     plt.title('inpainting output')\n",
    "\n",
    "#     plt.subplot(2, 4, 6)\n",
    "#     plt.imshow(results['depth_0_rec'], vmin=0, vmax=max_depth_0)\n",
    "#     plt.title('predicted View 0 depth')\n",
    "\n",
    "#     plt.subplot(2, 4, 7)\n",
    "#     plt.imshow(results['rgba_1_rec'][..., :3])\n",
    "#     plt.title('predicted View 1 RGB')\n",
    "\n",
    "#     plt.subplot(2, 4, 8)\n",
    "#     plt.imshow(results['depth_1_rec'], vmin=0, vmax=max_depth_1)\n",
    "#     plt.title('predicted View 1 depth')\n",
    "\n",
    "\n",
    "def plot_results(results, image_name='', exp_name=''):\n",
    "    plt.figure(figsize=(20, 5))\n",
    "\n",
    "    plt.subplot(1, 4, 1)\n",
    "    plt.imshow(results['orig_img_0'])\n",
    "    plt.title('ground-truth View 0')\n",
    "    plt.xlabel(image_name)\n",
    "\n",
    "    plt.subplot(1, 4, 2)\n",
    "    plt.imshow(results['orig_img_1'])\n",
    "    plt.title('ground-truth View 1')\n",
    "\n",
    "    plt.subplot(1, 4, 3)\n",
    "    plt.imshow(results['rgba_1_rec'][..., :3])\n",
    "    plt.title('mesh rendered View 1')\n",
    "    plt.xlabel(exp_name)\n",
    "\n",
    "    plt.subplot(1, 4, 4)\n",
    "    plt.imshow(results['rgb_1_inpaint'])\n",
    "    plt.title('inpainted View 1')\n",
    "\n",
    "    max_depth_0 = np.max(results['depth_0']) * 1.05\n",
    "    max_depth_1 = np.max(results['depth_1']) * 1.05"
   ]
  },
  {
   "cell_type": "code",
   "execution_count": null,
   "metadata": {
    "scrolled": false
   },
   "outputs": [],
   "source": [
    "save_dir = f'/private/home/ronghanghu/workspace/mmf_nr/save/visualization/{exp_name}/{split}'\n",
    "result_files = sorted(glob(os.path.join(save_dir, '*.npz')))\n",
    "\n",
    "np.random.seed(3)\n",
    "np.random.shuffle(result_files)\n",
    "\n",
    "for file in result_files[:5]:\n",
    "    d = np.load(file)\n",
    "    results = dict(d)\n",
    "    plot_results(results, os.path.basename(file).split('.')[0], exp_name)\n",
    "    d.close()"
   ]
  },
  {
   "cell_type": "code",
   "execution_count": null,
   "metadata": {},
   "outputs": [],
   "source": []
  }
 ],
 "metadata": {
  "kernelspec": {
   "display_name": "Python 3",
   "language": "python",
   "name": "python3"
  },
  "language_info": {
   "codemirror_mode": {
    "name": "ipython",
    "version": 3
   },
   "file_extension": ".py",
   "mimetype": "text/x-python",
   "name": "python",
   "nbconvert_exporter": "python",
   "pygments_lexer": "ipython3",
   "version": "3.7.7"
  }
 },
 "nbformat": 4,
 "nbformat_minor": 4
}
