{
 "cells": [
  {
   "cell_type": "code",
   "execution_count": null,
   "metadata": {},
   "outputs": [],
   "source": [
    "import os\n",
    "\n",
    "import numpy as np\n",
    "from glob import glob\n",
    "import matplotlib.pyplot as plt\n",
    "import skimage.io"
   ]
  },
  {
   "cell_type": "code",
   "execution_count": null,
   "metadata": {},
   "outputs": [],
   "source": [
    "exp_name = 'realestate10k_nodepth_perceptual_l1laplacian_inpaintGonly_scale2_lowL1'\n",
    "n_iter = 50000\n",
    "split = 'realestate10k_test'\n",
    "\n",
    "MEDFE_dir = '/private/home/ronghanghu/workspace/Rethinking-Inpainting-MEDFE/results/realestate10k_nodepth_perceptual_l1laplacian_inpaintGonly_scale2_lowL1__50000__short5d1/test_epoch6/'\n",
    "synsin_list = '/private/home/ronghanghu/workspace/mmf_nr/mmf/datasets/builders/synsin_realestate10k/realestate_test.txt'"
   ]
  },
  {
   "cell_type": "code",
   "execution_count": null,
   "metadata": {},
   "outputs": [],
   "source": [
    "def plot_results(results, image_name='', exp_name=''):\n",
    "    plt.figure(figsize=(25, 5))\n",
    "\n",
    "    plt.subplot(1, 5, 1)\n",
    "    plt.imshow(results['orig_img_0'])\n",
    "    plt.title('input view\\n', fontsize=18)\n",
    "\n",
    "    plt.subplot(1, 5, 2)\n",
    "    plt.imshow(results['orig_img_1'])\n",
    "    plt.title('ground-truth novel view\\n', fontsize=18)\n",
    "\n",
    "    plt.subplot(1, 5, 3)\n",
    "    plt.imshow(results['rgba_1_rec'][..., :3])\n",
    "    plt.title('novel view (w/o inpaint)\\n', fontsize=18)\n",
    "\n",
    "    plt.subplot(1, 5, 4)\n",
    "    plt.imshow(results['rgb_1_inpaint'][..., :3])\n",
    "    plt.title('novel view (basic inpainter)\\n', fontsize=18)\n",
    "\n",
    "    plt.subplot(1, 5, 5)\n",
    "    plt.imshow(results['rgb_1_MEDFE'])\n",
    "    plt.title('novel view (MEDFE)\\n', fontsize=18)"
   ]
  },
  {
   "cell_type": "code",
   "execution_count": null,
   "metadata": {
    "scrolled": false
   },
   "outputs": [],
   "source": [
    "save_dir = f'/private/home/ronghanghu/workspace/mmf_nr/save/visualization_synsin_realestate10k/{exp_name}/{n_iter}/{split}'\n",
    "result_files = sorted(glob(os.path.join(save_dir, '*.npz')))\n",
    "\n",
    "with open(synsin_list) as f:\n",
    "    lines = f.readlines()\n",
    "name2idx = {'_'.join(l.split()[:3]).replace('/', '-'): n_l for n_l, l in enumerate(lines)}\n",
    "\n",
    "for file in result_files[:20]:\n",
    "    d = np.load(file)\n",
    "    name = '_'.join(os.path.basename(file).replace('_outputs.npz', '').split('_')[1:])\n",
    "    idx = name2idx[name]\n",
    "    results = dict(d)\n",
    "    results['rgb_1_MEDFE'] = skimage.io.imread(f\"{MEDFE_dir}/{idx:04d}/output_image_.png\")\n",
    "    plot_results(results, os.path.basename(file).split('.')[0], exp_name)\n",
    "    d.close()"
   ]
  },
  {
   "cell_type": "code",
   "execution_count": null,
   "metadata": {},
   "outputs": [],
   "source": []
  }
 ],
 "metadata": {
  "kernelspec": {
   "display_name": "Python 3",
   "language": "python",
   "name": "python3"
  },
  "language_info": {
   "codemirror_mode": {
    "name": "ipython",
    "version": 3
   },
   "file_extension": ".py",
   "mimetype": "text/x-python",
   "name": "python",
   "nbconvert_exporter": "python",
   "pygments_lexer": "ipython3",
   "version": "3.7.7"
  }
 },
 "nbformat": 4,
 "nbformat_minor": 4
}
