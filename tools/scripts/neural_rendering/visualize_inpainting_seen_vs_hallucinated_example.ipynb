{
 "cells": [
  {
   "cell_type": "code",
   "execution_count": null,
   "metadata": {},
   "outputs": [],
   "source": [
    "import os\n",
    "\n",
    "import numpy as np\n",
    "from glob import glob\n",
    "import matplotlib.pyplot as plt"
   ]
  },
  {
   "cell_type": "code",
   "execution_count": null,
   "metadata": {},
   "outputs": [],
   "source": [
    "exp_name = 'inpaintGSBN_l1laplacian'\n",
    "split = 'test'"
   ]
  },
  {
   "cell_type": "code",
   "execution_count": null,
   "metadata": {},
   "outputs": [],
   "source": [
    "def plot_results(results, image_name='', exp_name=''):\n",
    "    plt.figure(figsize=(20, 5))\n",
    "\n",
    "    plt.subplot(1, 4, 1)\n",
    "    plt.imshow(results['orig_img_0'])\n",
    "    plt.title('ground-truth View 0')\n",
    "    plt.xlabel(image_name)\n",
    "\n",
    "    plt.subplot(1, 4, 2)\n",
    "    plt.imshow(results['orig_img_1'])\n",
    "    plt.title('ground-truth View 1')\n",
    "\n",
    "    plt.subplot(1, 4, 3)\n",
    "    plt.imshow(results['rgba_1_rec'][..., :3])\n",
    "    plt.title('mesh rendered View 1')\n",
    "    plt.xlabel(exp_name)\n",
    "\n",
    "    plt.subplot(1, 4, 4)\n",
    "    if 'rgb_1_inpaint' in results:\n",
    "        plt.imshow(results['rgb_1_inpaint'])\n",
    "        plt.title('inpainted View 1')\n",
    "    else:\n",
    "        plt.title('no inpainting')\n",
    "\n",
    "    max_depth_0 = np.max(results['depth_0']) * 1.05\n",
    "    max_depth_1 = np.max(results['depth_1']) * 1.05"
   ]
  },
  {
   "cell_type": "code",
   "execution_count": null,
   "metadata": {
    "scrolled": false
   },
   "outputs": [],
   "source": [
    "import skimage.io\n",
    "\n",
    "save_dir = f'/private/home/ronghanghu/workspace/mmf_nr/save/visualization/{exp_name}/{split}'\n",
    "result_files = sorted(glob(os.path.join(save_dir, '*.npz')))\n",
    "\n",
    "np.random.seed(3)\n",
    "np.random.shuffle(result_files)\n",
    "\n",
    "for file in result_files[1:2]:\n",
    "    d = np.load(file)\n",
    "    results = dict(d)\n",
    "    plot_results(results, os.path.basename(file).split('.')[0], exp_name)\n",
    "    d.close()\n",
    "    \n",
    "    skimage.io.imsave('/private/home/ronghanghu/workspace/inpaintGSBN_l1laplacian_test_0001_input.png', results['orig_img_0'])\n",
    "    skimage.io.imsave('/private/home/ronghanghu/workspace/inpaintGSBN_l1laplacian_test_0001_tgt.png', results['orig_img_1'])\n",
    "    skimage.io.imsave('/private/home/ronghanghu/workspace/inpaintGSBN_l1laplacian_test_0001_noinpaint.png', results['rgba_1_rec'][..., :3])\n",
    "    skimage.io.imsave('/private/home/ronghanghu/workspace/inpaintGSBN_l1laplacian_test_0001_inpaint.png', results['rgb_1_inpaint'])"
   ]
  },
  {
   "cell_type": "code",
   "execution_count": null,
   "metadata": {},
   "outputs": [],
   "source": []
  }
 ],
 "metadata": {
  "kernelspec": {
   "display_name": "Python 3",
   "language": "python",
   "name": "python3"
  },
  "language_info": {
   "codemirror_mode": {
    "name": "ipython",
    "version": 3
   },
   "file_extension": ".py",
   "mimetype": "text/x-python",
   "name": "python",
   "nbconvert_exporter": "python",
   "pygments_lexer": "ipython3",
   "version": "3.7.7"
  }
 },
 "nbformat": 4,
 "nbformat_minor": 4
}
