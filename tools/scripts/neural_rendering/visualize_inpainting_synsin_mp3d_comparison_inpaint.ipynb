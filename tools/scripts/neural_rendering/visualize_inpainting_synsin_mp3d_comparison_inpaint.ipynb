{
 "cells": [
  {
   "cell_type": "code",
   "execution_count": null,
   "metadata": {},
   "outputs": [],
   "source": [
    "import os\n",
    "\n",
    "import numpy as np\n",
    "from glob import glob\n",
    "import matplotlib.pyplot as plt\n",
    "import skimage.io"
   ]
  },
  {
   "cell_type": "code",
   "execution_count": null,
   "metadata": {},
   "outputs": [],
   "source": [
    "exp_name = 'mp3d_nodepth_perceptual_l1laplacian_inpaintGonly_freezemesh'\n",
    "n_iter = 40000\n",
    "split = 'mp3d_test'\n",
    "\n",
    "synsin_dir = '/private/home/ronghanghu/workspace/synsin/results_mp3d/pred/'"
   ]
  },
  {
   "cell_type": "code",
   "execution_count": null,
   "metadata": {},
   "outputs": [],
   "source": [
    "def plot_results(results, image_name='', exp_name=''):\n",
    "    plt.figure(figsize=(25, 5))\n",
    "\n",
    "    plt.subplot(1, 5, 1)\n",
    "    plt.imshow(results['orig_img_0'])\n",
    "    plt.title('input view\\n', fontsize=18)\n",
    "\n",
    "    plt.subplot(1, 5, 2)\n",
    "    plt.imshow(results['orig_img_1'])\n",
    "    plt.title('ground-truth novel view\\n', fontsize=18)\n",
    "\n",
    "    plt.subplot(1, 5, 3)\n",
    "    plt.imshow(results['rgba_1_rec'][..., :3])\n",
    "    plt.title('novel view (ours w/o inpaint)\\n', fontsize=18)\n",
    "\n",
    "    plt.subplot(1, 5, 4)\n",
    "    plt.imshow(results['rgb_1_inpaint'][..., :3])\n",
    "    plt.title('novel view (ours)\\n', fontsize=18)\n",
    "\n",
    "    plt.subplot(1, 5, 5)\n",
    "    plt.imshow(results['rgb_1_synsin'])\n",
    "    plt.title('novel view (SynSin)\\n', fontsize=18)\n",
    "\n",
    "    max_depth_0 = np.max(results['depth_0']) * 1.05\n",
    "    max_depth_1 = np.max(results['depth_1']) * 1.05"
   ]
  },
  {
   "cell_type": "code",
   "execution_count": null,
   "metadata": {
    "scrolled": false
   },
   "outputs": [],
   "source": [
    "save_dir = f'/private/home/ronghanghu/workspace/mmf_nr/save/visualization_synsin_habitat/{exp_name}/{n_iter}/{split}'\n",
    "result_files = sorted(glob(os.path.join(save_dir, '*.npz')))\n",
    "\n",
    "for file in result_files[0:30]:\n",
    "    d = np.load(file)\n",
    "    idx = int(os.path.basename(file).split('_')[1])\n",
    "    results = dict(d)\n",
    "    results['rgb_1_synsin'] = skimage.io.imread(f\"{synsin_dir}/{idx:08d}.png\")\n",
    "    plot_results(results, os.path.basename(file).split('.')[0], exp_name)\n",
    "    d.close()"
   ]
  },
  {
   "cell_type": "code",
   "execution_count": null,
   "metadata": {},
   "outputs": [],
   "source": []
  }
 ],
 "metadata": {
  "kernelspec": {
   "display_name": "Python 3",
   "language": "python",
   "name": "python3"
  },
  "language_info": {
   "codemirror_mode": {
    "name": "ipython",
    "version": 3
   },
   "file_extension": ".py",
   "mimetype": "text/x-python",
   "name": "python",
   "nbconvert_exporter": "python",
   "pygments_lexer": "ipython3",
   "version": "3.7.7"
  }
 },
 "nbformat": 4,
 "nbformat_minor": 4
}
